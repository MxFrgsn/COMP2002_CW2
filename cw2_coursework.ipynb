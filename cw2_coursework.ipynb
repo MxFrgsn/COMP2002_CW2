{
 "cells": [
  {
   "cell_type": "markdown",
   "metadata": {},
   "source": [
    "# Machine Learning\n",
    "## 1.1 Data preparation\n",
    "You have been provided with datasets relating to glass. Your task is to train and assess classification models that predict the type of glass based on 9 inputs.\n",
    "\n",
    "You must complete the following tasks:\n",
    "## Task 1.1 – Data preparation (10% of total mark)\n",
    "The first phase of the work requires you to load the data you have been provided with into your\n",
    "selected program. Before the data can be used to train and test your models you must first\n",
    "prepare it – this means that the inputs must be converted to a suitable format. There is no missing\n",
    "data in the dataset.\n",
    "## Task 1.2 – Classification (20% of total mark)\n",
    "Having prepared the data you must now build a classification tool that can predict new points. Use\n",
    "the following regression implementations within the respective program packages to construct\n",
    "predictors for the dataset:\n",
    "\n",
    "• kNN\n",
    "\n",
    "• SVM\n",
    "\n",
    "For each of the models, you must investigate the optimal number of neighbours and an appropriate kernel shape from linear, polynomial and radial. You must demonstrate that each classifier can provide a prediction for a given input.\n",
    "\n",
    "Note: for the polynomial kernel, restrict your investigation to polynomials of degree 2 and 3. \n",
    "\n",
    "## Task 1.3 – Assessment of classification (20% of total mark)\n",
    "After identifying the best model parameters in the previous task, the classification models you\n",
    "have implemented must be assessed. To do this you are required to assess the accuracy for each\n",
    "model.\n",
    "\n",
    "You may use the accuracy implementation available to do this. It is not sufficient to report a\n",
    "single accuracy score. You must use cross-validation to report training results and report these\n",
    "values using a plot. You will also need to write a summary analysing your results and findings"
   ]
  },
  {
   "cell_type": "markdown",
   "metadata": {},
   "source": [
    "## imports "
   ]
  },
  {
   "cell_type": "code",
   "execution_count": 2,
   "metadata": {},
   "outputs": [],
   "source": [
    "import matplotlib.pyplot as plt\n",
    "from sklearn.decomposition import PCA\n",
    "from sklearn.neighbors import KNeighborsClassifier\n",
    "import pandas\n",
    "import numpy as np"
   ]
  },
  {
   "cell_type": "markdown",
   "metadata": {},
   "source": [
    "## Data preparation"
   ]
  },
  {
   "cell_type": "code",
   "execution_count": null,
   "metadata": {},
   "outputs": [],
   "source": [
    "data = pandas.read_csv(\"glass_dataset.csv\")\n",
    "# Inputs is features, Data is the whole dataset, Targets is the labels\n",
    "targets = data[\"Type\"] # Label of the type of glass (1-7)\n",
    "inputs = data.drop(\"Type\", axis=1) # Features of the glass\n",
    "\n",
    "#print(\"targets\", targets)\n",
    "#print(\"inputs\", inputs)"
   ]
  },
  {
   "cell_type": "code",
   "execution_count": 10,
   "metadata": {},
   "outputs": [
    {
     "name": "stdout",
     "output_type": "stream",
     "text": [
      "        RI     Na    Mg    Al     Si     K    Ca   Ba   Fe  Type\n",
      "0  1.52101  13.64  4.49  1.10  71.78  0.06  8.75  0.0  0.0     1\n",
      "1  1.51761  13.89  3.60  1.36  72.73  0.48  7.83  0.0  0.0     1\n",
      "2  1.51618  13.53  3.55  1.54  72.99  0.39  7.78  0.0  0.0     1\n",
      "3  1.51766  13.21  3.69  1.29  72.61  0.57  8.22  0.0  0.0     1\n",
      "4  1.51742  13.27  3.62  1.24  73.08  0.55  8.07  0.0  0.0     1\n",
      "Index(['RI', 'Na', 'Mg', 'Al', 'Si', 'K', 'Ca', 'Ba', 'Fe', 'Type'], dtype='object')\n"
     ]
    }
   ],
   "source": [
    "print(data.head())  \n",
    "print(data.columns)  "
   ]
  },
  {
   "cell_type": "markdown",
   "metadata": {},
   "source": [
    "## Classifcation "
   ]
  },
  {
   "cell_type": "code",
   "execution_count": null,
   "metadata": {},
   "outputs": [],
   "source": [
    "#pca = PCA(n_components=2)\n",
    "#compressed = pca.fit_transform(inputs)"
   ]
  }
 ],
 "metadata": {
  "kernelspec": {
   "display_name": "Python 3",
   "language": "python",
   "name": "python3"
  },
  "language_info": {
   "codemirror_mode": {
    "name": "ipython",
    "version": 3
   },
   "file_extension": ".py",
   "mimetype": "text/x-python",
   "name": "python",
   "nbconvert_exporter": "python",
   "pygments_lexer": "ipython3",
   "version": "3.12.9"
  }
 },
 "nbformat": 4,
 "nbformat_minor": 2
}
